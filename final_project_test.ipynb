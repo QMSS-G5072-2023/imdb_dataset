{
 "cells": [
  {
   "cell_type": "code",
   "execution_count": 4,
   "metadata": {},
   "outputs": [
    {
     "name": "stdout",
     "output_type": "stream",
     "text": [
      "Looking in indexes: https://test.pypi.org/simple/\n",
      "Requirement already satisfied: imdb-dataset in /Users/junyinluo/anaconda3/lib/python3.11/site-packages (0.1.0)\n",
      "Requirement already satisfied: Pillow<11.0.0,>=10.0.1 in /Users/junyinluo/anaconda3/lib/python3.11/site-packages (from imdb-dataset) (10.1.0)\n",
      "Requirement already satisfied: beautifulsoup4<5.0.0,>=4.12.2 in /Users/junyinluo/anaconda3/lib/python3.11/site-packages (from imdb-dataset) (4.12.2)\n",
      "Requirement already satisfied: bs4<0.0.2,>=0.0.1 in /Users/junyinluo/anaconda3/lib/python3.11/site-packages (from imdb-dataset) (0.0.1)\n",
      "Requirement already satisfied: h5py<4.0.0,>=3.9.0 in /Users/junyinluo/anaconda3/lib/python3.11/site-packages (from imdb-dataset) (3.10.0)\n",
      "Requirement already satisfied: html5lib<2.0,>=1.1 in /Users/junyinluo/anaconda3/lib/python3.11/site-packages (from imdb-dataset) (1.1)\n",
      "Requirement already satisfied: importlib-metadata<7.0.0,>=6.8.0 in /Users/junyinluo/anaconda3/lib/python3.11/site-packages (from imdb-dataset) (6.11.0)\n",
      "Requirement already satisfied: iniconfig<3.0.0,>=2.0.0 in /Users/junyinluo/anaconda3/lib/python3.11/site-packages (from imdb-dataset) (2.0.0)\n",
      "Requirement already satisfied: lxml<5.0.0,>=4.9.3 in /Users/junyinluo/anaconda3/lib/python3.11/site-packages (from imdb-dataset) (4.9.3)\n",
      "Requirement already satisfied: matplotlib<4.0.0,>=3.5.3 in /Users/junyinluo/anaconda3/lib/python3.11/site-packages (from imdb-dataset) (3.7.1)\n",
      "Requirement already satisfied: packaging<24.0,>=23.1 in /Users/junyinluo/anaconda3/lib/python3.11/site-packages (from imdb-dataset) (23.2)\n",
      "Requirement already satisfied: pandas<3.0.0,>=2.1.1 in /Users/junyinluo/anaconda3/lib/python3.11/site-packages (from imdb-dataset) (2.1.4)\n",
      "Requirement already satisfied: pandas-datareader<0.11.0,>=0.10.0 in /Users/junyinluo/anaconda3/lib/python3.11/site-packages (from imdb-dataset) (0.10.0)\n",
      "Requirement already satisfied: pyarrow<15.0.0,>=14.0.1 in /Users/junyinluo/anaconda3/lib/python3.11/site-packages (from imdb-dataset) (14.0.1)\n",
      "Requirement already satisfied: pyparsing<4.0.0,>=3.1.1 in /Users/junyinluo/anaconda3/lib/python3.11/site-packages (from imdb-dataset) (3.1.1)\n",
      "Requirement already satisfied: pytest<8.0.0,>=7.4.3 in /Users/junyinluo/anaconda3/lib/python3.11/site-packages (from imdb-dataset) (7.4.3)\n",
      "Requirement already satisfied: pytz<2024.0,>=2023.3.post1 in /Users/junyinluo/anaconda3/lib/python3.11/site-packages (from imdb-dataset) (2023.3.post1)\n",
      "Requirement already satisfied: requests<3.0.0,>=2.31.0 in /Users/junyinluo/anaconda3/lib/python3.11/site-packages (from imdb-dataset) (2.31.0)\n",
      "Requirement already satisfied: requests-oauthlib<2.0.0,>=1.3.1 in /Users/junyinluo/anaconda3/lib/python3.11/site-packages (from imdb-dataset) (1.3.1)\n",
      "Requirement already satisfied: urllib3<3.0.0,>=2.0.5 in /Users/junyinluo/anaconda3/lib/python3.11/site-packages (from imdb-dataset) (2.1.0)\n",
      "Requirement already satisfied: soupsieve>1.2 in /Users/junyinluo/anaconda3/lib/python3.11/site-packages (from beautifulsoup4<5.0.0,>=4.12.2->imdb-dataset) (2.4)\n",
      "Requirement already satisfied: numpy>=1.17.3 in /Users/junyinluo/anaconda3/lib/python3.11/site-packages (from h5py<4.0.0,>=3.9.0->imdb-dataset) (1.24.3)\n",
      "Requirement already satisfied: six>=1.9 in /Users/junyinluo/anaconda3/lib/python3.11/site-packages (from html5lib<2.0,>=1.1->imdb-dataset) (1.16.0)\n",
      "Requirement already satisfied: webencodings in /Users/junyinluo/anaconda3/lib/python3.11/site-packages (from html5lib<2.0,>=1.1->imdb-dataset) (0.5.1)\n",
      "Requirement already satisfied: zipp>=0.5 in /Users/junyinluo/anaconda3/lib/python3.11/site-packages (from importlib-metadata<7.0.0,>=6.8.0->imdb-dataset) (3.11.0)\n",
      "Requirement already satisfied: contourpy>=1.0.1 in /Users/junyinluo/anaconda3/lib/python3.11/site-packages (from matplotlib<4.0.0,>=3.5.3->imdb-dataset) (1.0.5)\n",
      "Requirement already satisfied: cycler>=0.10 in /Users/junyinluo/anaconda3/lib/python3.11/site-packages (from matplotlib<4.0.0,>=3.5.3->imdb-dataset) (0.11.0)\n",
      "Requirement already satisfied: fonttools>=4.22.0 in /Users/junyinluo/anaconda3/lib/python3.11/site-packages (from matplotlib<4.0.0,>=3.5.3->imdb-dataset) (4.25.0)\n",
      "Requirement already satisfied: kiwisolver>=1.0.1 in /Users/junyinluo/anaconda3/lib/python3.11/site-packages (from matplotlib<4.0.0,>=3.5.3->imdb-dataset) (1.4.4)\n",
      "Requirement already satisfied: python-dateutil>=2.7 in /Users/junyinluo/anaconda3/lib/python3.11/site-packages (from matplotlib<4.0.0,>=3.5.3->imdb-dataset) (2.8.2)\n",
      "Requirement already satisfied: tzdata>=2022.1 in /Users/junyinluo/anaconda3/lib/python3.11/site-packages (from pandas<3.0.0,>=2.1.1->imdb-dataset) (2023.3)\n",
      "Requirement already satisfied: pluggy<2.0,>=0.12 in /Users/junyinluo/anaconda3/lib/python3.11/site-packages (from pytest<8.0.0,>=7.4.3->imdb-dataset) (0.13.1)\n",
      "Requirement already satisfied: charset-normalizer<4,>=2 in /Users/junyinluo/anaconda3/lib/python3.11/site-packages (from requests<3.0.0,>=2.31.0->imdb-dataset) (2.0.4)\n",
      "Requirement already satisfied: idna<4,>=2.5 in /Users/junyinluo/anaconda3/lib/python3.11/site-packages (from requests<3.0.0,>=2.31.0->imdb-dataset) (3.4)\n",
      "Requirement already satisfied: certifi>=2017.4.17 in /Users/junyinluo/anaconda3/lib/python3.11/site-packages (from requests<3.0.0,>=2.31.0->imdb-dataset) (2023.7.22)\n",
      "Requirement already satisfied: oauthlib>=3.0.0 in /Users/junyinluo/anaconda3/lib/python3.11/site-packages (from requests-oauthlib<2.0.0,>=1.3.1->imdb-dataset) (3.2.2)\n"
     ]
    }
   ],
   "source": [
    "!pip install --index-url https://test.pypi.org/simple/ imdb-dataset\n"
   ]
  },
  {
   "cell_type": "code",
   "execution_count": 2,
   "metadata": {},
   "outputs": [],
   "source": [
    "import imdb_dataset"
   ]
  },
  {
   "cell_type": "code",
   "execution_count": 14,
   "metadata": {},
   "outputs": [
    {
     "name": "stdout",
     "output_type": "stream",
     "text": [
      "Name: imdb_dataset\n",
      "Version: 0.1.0\n",
      "Summary: The IMDB_Dataset API project aims to seamlessly empower users with access to the dynamic world of the IMDB dataset.\n",
      "Home-page: \n",
      "Author: JunyinLuo\n",
      "Author-email: jl6530@columbia.edu\n",
      "License: MIT\n",
      "Location: /Users/junyinluo/anaconda3/lib/python3.11/site-packages\n",
      "Requires: beautifulsoup4, bs4, h5py, html5lib, importlib-metadata, iniconfig, lxml, matplotlib, packaging, pandas, pandas-datareader, Pillow, pyarrow, pyparsing, pytest, pytz, requests, requests-oauthlib, urllib3\n",
      "Required-by: \n"
     ]
    }
   ],
   "source": [
    "!pip show imdb-dataset"
   ]
  },
  {
   "cell_type": "code",
   "execution_count": 13,
   "metadata": {},
   "outputs": [
    {
     "name": "stdout",
     "output_type": "stream",
     "text": [
      "\u001b[1m============================= test session starts ==============================\u001b[0m\n",
      "platform darwin -- Python 3.11.5, pytest-7.4.3, pluggy-0.13.1\n",
      "rootdir: /Users/junyinluo/Desktop/MDS/my_project\n",
      "plugins: hypothesis-6.88.1, anyio-3.5.0\n",
      "collected 3 items\n",
      "\n",
      "my_project/tests/test_api_intialize.py \u001b[32m.\u001b[0m\u001b[32m                                 [ 33%]\u001b[0m\n",
      "my_project/tests/test_movie_detail.py \u001b[32m.\u001b[0m\u001b[32m                                  [ 66%]\u001b[0m\n",
      "my_project/tests/test_movie_search.py \u001b[32m.\u001b[0m\u001b[32m                                  [100%]\u001b[0m\n",
      "\n",
      "\u001b[32m============================== \u001b[32m\u001b[1m3 passed\u001b[0m\u001b[32m in 49.31s\u001b[0m\u001b[32m ==============================\u001b[0m\n"
     ]
    },
    {
     "data": {
      "text/plain": [
       "<ExitCode.OK: 0>"
      ]
     },
     "execution_count": 13,
     "metadata": {},
     "output_type": "execute_result"
    }
   ],
   "source": [
    "import pytest\n",
    "\n",
    "pytest.main([\"/Users/junyinluo/Desktop/MDS/my_project/tests\"])\n"
   ]
  },
  {
   "cell_type": "code",
   "execution_count": 1,
   "metadata": {},
   "outputs": [
    {
     "name": "stdout",
     "output_type": "stream",
     "text": [
      "[None, 'Action', 'Adult', 'Adventure', 'Animation', 'Biography', 'Comedy', 'Crime', 'Documentary', 'Drama', 'Family', 'Fantasy', 'Film-Noir', 'Game-Show', 'History', 'Horror', 'Music', 'Musical', 'Mystery', 'News', 'Reality-TV', 'Romance', 'Sci-Fi', 'Short', 'Sport', 'Talk-Show', 'Thriller', 'War', 'Western']\n",
      "['most_pop_movies', 'most_pop_series', 'top_boxoffice_200', 'top_boxoffice_last_weekend_10', 'top_rated_250', 'top_rated_english_250', 'top_rated_lowest_100', 'top_rated_series_250', 'titles']\n",
      "[None, 'movie', 'musicVideo', 'podcastEpisode', 'podcastSeries', 'short', 'tvEpisode', 'tvMiniSeries', 'tvMovie', 'tvPilot', 'tvSeries', 'tvShort', 'tvSpecial', 'video', 'videoGame']\n",
      "      imdbId                                             imgUrl  \\\n",
      "0  tt0146592  https://m.media-amazon.com/images/M/MV5BODNjZm...   \n",
      "1  tt0154039  https://m.media-amazon.com/images/M/MV5BM2U4NW...   \n",
      "2  tt0162942  https://m.media-amazon.com/images/M/MV5BNDhkMT...   \n",
      "3  tt0230212  https://m.media-amazon.com/images/M/MV5BNDY0ND...   \n",
      "4  tt0326965  https://m.media-amazon.com/images/M/MV5BNzg1MD...   \n",
      "5  tt0331312  https://m.media-amazon.com/images/M/MV5BMTU3OD...   \n",
      "6  tt0337882  https://m.media-amazon.com/images/M/MV5BMTY3Nj...   \n",
      "7  tt0393049  https://m.media-amazon.com/images/M/MV5BOTcwOT...   \n",
      "8  tt0396123                                                NaN   \n",
      "9  tt0402887                                                NaN   \n",
      "\n",
      "                                           imdbTitle titleType releaseDate  \n",
      "0                                 Pál Adrienn (2010)     Movie  2011-06-02  \n",
      "1                              Oda az igazság (2010)     Movie  2010-02-11  \n",
      "2                    A zöld sárkány gyermekei (2010)     Movie  2011-04-07  \n",
      "3                           The Final Journey (2010)     Movie  2010-09-20  \n",
      "4                                 In My Sleep (2010)     Movie  2010-04-23  \n",
      "5                          This Wretched Life (2010)     Movie  2010-07-28  \n",
      "6                                 Blind Sided (2010)     Movie         NaT  \n",
      "7  Heather Bergdahl, Nicholas Downs, Jerome Elsto...     Movie  2010-05-20  \n",
      "8                                                NaN     Movie  2014-05-14  \n",
      "9                                                NaN     Movie         NaT  \n",
      "No valid 'results' found in response for ID tt0402887\n",
      "      imdbId  averageRating  numVotes\n",
      "0  tt0146592            6.7       533\n",
      "1  tt0154039            4.6        89\n",
      "2  tt0162942            6.9       144\n",
      "3  tt0230212            8.9        11\n",
      "4  tt0326965            5.5      2128\n",
      "5  tt0331312            7.7        70\n",
      "6  tt0337882            7.2        18\n",
      "7  tt0393049            5.9       162\n",
      "8  tt0396123            7.2        17\n",
      "  region     imdbId attributes  isOriginalTitle language  ordering  \\\n",
      "0     BG  tt0146592         \\N                0       bg         3   \n",
      "1     FR  tt0146592         \\N                0       \\N         1   \n",
      "2     HR  tt0146592         \\N                0       \\N         4   \n",
      "3     HU  tt0146592         \\N                0       \\N         5   \n",
      "4     PL  tt0146592         \\N                0       \\N         2   \n",
      "5     SE  tt0146592         \\N                0       \\N         6   \n",
      "6     \\N  tt0146592         \\N                1       \\N         7   \n",
      "\n",
      "         title        types  \n",
      "0   Адриен Пал  imdbDisplay  \n",
      "1  Adrienn Pál  imdbDisplay  \n",
      "2  Pal Adrienn  imdbDisplay  \n",
      "3  Pál Adrienn  imdbDisplay  \n",
      "4  Adrienn Pal  imdbDisplay  \n",
      "5  Adrienn Pál  imdbDisplay  \n",
      "6  Pál Adrienn     original  \n"
     ]
    }
   ],
   "source": [
    "from imdb_dataset import api_initialize, movie_search, movie_detail\n",
    "\n",
    "\n",
    "api_key = \"6fff73e170msh4b1276331400f97p1b4552jsn68d88f580ee6\"\n",
    "\n",
    "# get utils\n",
    "genres, lists, titleTypes = api_initialize.ApiInitialize(api_key).get_utils()\n",
    "print(genres)\n",
    "print(lists)\n",
    "print(titleTypes)\n",
    "\n",
    "# search movies\n",
    "# genre\n",
    "string = ''\n",
    "mode = 'genre'\n",
    "option = {'startYear': 1991, 'endYear': 2010, 'page': 1, 'limit': 10, 'titleType': 'Movie'}\n",
    "\n",
    "search = movie_search.MovieSearch(api_key, string, mode, option)\n",
    "data = search.get_genre_results(genre = 'Drama')\n",
    "print(data)\n",
    "\n",
    "# get data detail\n",
    "detail = movie_detail.MovieDetail(api_key, data)\n",
    "data1 = detail.get_movie_ratings()\n",
    "print(data1)\n",
    "\n",
    "# get_movie_poster\n",
    "id = data1['imdbId'][0]\n",
    "data2 = detail.get_movie_aka(id)\n",
    "print(data2)\n",
    "detail.get_movie_poster(id, show = True, save = True)\n"
   ]
  },
  {
   "cell_type": "markdown",
   "metadata": {},
   "source": [
    "![This](example.jpg)\n"
   ]
  }
 ],
 "metadata": {
  "kernelspec": {
   "display_name": "base",
   "language": "python",
   "name": "python3"
  },
  "language_info": {
   "codemirror_mode": {
    "name": "ipython",
    "version": 3
   },
   "file_extension": ".py",
   "mimetype": "text/x-python",
   "name": "python",
   "nbconvert_exporter": "python",
   "pygments_lexer": "ipython3",
   "version": "3.11.5"
  },
  "orig_nbformat": 4
 },
 "nbformat": 4,
 "nbformat_minor": 2
}
